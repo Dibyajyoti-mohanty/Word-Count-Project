{
 "cells": [
  {
   "cell_type": "code",
   "execution_count": null,
   "metadata": {},
   "outputs": [],
   "source": []
  },
  {
   "cell_type": "markdown",
   "metadata": {},
   "source": [
    "### 25. Print the frequency of each element in a list."
   ]
  },
  {
   "cell_type": "code",
   "execution_count": null,
   "metadata": {},
   "outputs": [
    {
     "name": "stdout",
     "output_type": "stream",
     "text": [
      "['a', 'b', 'c', 'd', 'e']\n"
     ]
    }
   ],
   "source": [
    "ls19 = ['a', 'b', 'c', 'a', 'b', 'a', 'd', 'c', 'c', 'e']\n",
    "i = 0\n",
    "fr = 0\n",
    "ls20 = []\n",
    "while i<=len(ls19)-1:\n",
    "    if ls19[i] not in ls20:\n",
    "       ls20.append(ls19[i])\n",
    "    i = i+1 \n",
    "print(ls20)"
   ]
  },
  {
   "cell_type": "code",
   "execution_count": null,
   "metadata": {},
   "outputs": [
    {
     "name": "stdout",
     "output_type": "stream",
     "text": [
      "a --> 3 times\n",
      "b --> 2 times\n",
      "c --> 3 times\n",
      "d --> 1 times\n",
      "e --> 1 times\n"
     ]
    }
   ],
   "source": [
    "ls19 = ['a', 'b', 'c', 'a', 'b', 'a', 'd', 'c', 'c', 'e']\n",
    "i = 0\n",
    "j = 0\n",
    "fr = 0\n",
    "ls20 = []\n",
    "while i<=len(ls19)-1:\n",
    "    if ls19[i] not in ls20:\n",
    "       ls20.append(ls19[i])\n",
    "    while j <=len(ls20)-1:\n",
    "        fr = ls19.count(ls20[j])\n",
    "        print(ls20[j],\"-->\",fr,\"times\")\n",
    "        j = j+1\n",
    "    i = i+1\n",
    "\n",
    "\n",
    "    \n",
    "  "
   ]
  },
  {
   "cell_type": "code",
   "execution_count": null,
   "metadata": {},
   "outputs": [
    {
     "name": "stdout",
     "output_type": "stream",
     "text": [
      "('a', 3)\n",
      "('b', 2)\n",
      "('c', 3)\n",
      "('d', 1)\n",
      "('e', 1)\n",
      "('f', 2)\n",
      "('g', 2)\n",
      "('h', 2)\n",
      "('1', 2)\n",
      "('2', 2)\n",
      "[('a', 3), ('b', 2), ('c', 3), ('d', 1), ('e', 1), ('f', 2), ('g', 2), ('h', 2), ('1', 2), ('2', 2)]\n"
     ]
    }
   ],
   "source": [
    "ls19 = ['a', 'b', 'c', 'a', 'b', 'a', 'd', 'c', 'c', 'e','f','g','h','g','h','f','1','2','1','2']\n",
    "i = 0\n",
    "j = 0\n",
    "fr = 0\n",
    "# re = ()\n",
    "ls20 = []\n",
    "ls21 = []\n",
    "while i<=len(ls19)-1:\n",
    "    if ls19[i] not in ls20:\n",
    "       ls20.append(ls19[i])\n",
    "    while j <=len(ls20)-1:\n",
    "        fr = ls19.count(ls20[j])\n",
    "        re = (ls20[j],fr)\n",
    "        print(re)\n",
    "        j = j+1\n",
    "        ls21.append(re)\n",
    "    # print(ls21)\n",
    "    i = i+1\n",
    "print(ls21)\n",
    "\n",
    "\n",
    "    \n",
    "  "
   ]
  },
  {
   "cell_type": "code",
   "execution_count": null,
   "metadata": {},
   "outputs": [
    {
     "data": {
      "text/plain": [
       "tuple"
      ]
     },
     "metadata": {},
     "output_type": "display_data"
    }
   ],
   "source": [
    "type(re)"
   ]
  },
  {
   "cell_type": "code",
   "execution_count": null,
   "metadata": {},
   "outputs": [
    {
     "name": "stdout",
     "output_type": "stream",
     "text": [
      "[['kiwi', 'mango', 'kiwi', 'kiwi', 'kiwi', 'honeydew', 'fig', 'kiwi', 'cherry'], ['apple', 'banana', 'kiwi', 'banana', 'lemon', 'lemon'], ['lemon', 'apple', 'cherry', 'apple', 'apple', 'kiwi', 'honeydew'], ['mango', 'grape', 'fig', 'kiwi', 'mango', 'mango', 'apple'], ['kiwi', 'grape', 'mango', 'banana', 'fig', 'apple', 'honeydew', 'apple', 'date', 'kiwi'], ['lemon', 'date', 'apple', 'date', 'lemon', 'fig', 'mango', 'honeydew'], ['lemon', 'banana', 'mango', 'date', 'date', 'fig', 'lemon'], ['grape', 'banana', 'banana', 'cherry', 'honeydew', 'cherry', 'fig'], ['fig', 'kiwi', 'date', 'mango', 'kiwi', 'date', 'fig'], ['cherry', 'mango', 'honeydew', 'date', 'mango', 'honeydew'], ['fig', 'banana', 'fig', 'fig', 'banana', 'kiwi', 'date', 'honeydew'], ['cherry', 'kiwi', 'date', 'mango', 'mango', 'cherry', 'fig', 'cherry', 'kiwi'], ['honeydew', 'honeydew', 'lemon', 'date', 'lemon', 'honeydew', 'banana', 'kiwi'], ['cherry', 'honeydew', 'honeydew', 'mango', 'banana'], ['date', 'banana', 'grape', 'mango', 'grape', 'kiwi', 'mango', 'kiwi']]\n"
     ]
    }
   ],
   "source": [
    "file_path = r\"C:\\Users\\milla\\Downloads\\random_text_file.txt\"\n",
    "with open(file_path, \"r\") as file:\n",
    "    lines = file.readlines()\n",
    "list_new = [line.strip().split() for line in lines]\n",
    "print(list_new)\n",
    "# print(\"Using readlines to read the file into a list:\")\n",
    "# for line in lines:\n",
    "#     print(line.strip())"
   ]
  },
  {
   "cell_type": "code",
   "execution_count": null,
   "metadata": {},
   "outputs": [
    {
     "name": "stdout",
     "output_type": "stream",
     "text": [
      "('kiwi', 18)\n",
      "('mango', 15)\n",
      "('honeydew', 13)\n",
      "('fig', 12)\n",
      "('cherry', 9)\n",
      "('apple', 8)\n",
      "('banana', 11)\n",
      "('lemon', 9)\n",
      "('grape', 5)\n",
      "('date', 12)\n",
      "[('kiwi', 18), ('mango', 15), ('honeydew', 13), ('fig', 12), ('cherry', 9), ('apple', 8), ('banana', 11), ('lemon', 9), ('grape', 5), ('date', 12)]\n"
     ]
    }
   ],
   "source": [
    "\n",
    "\n",
    "\n",
    "\n",
    "file_path = r\"C:\\Users\\milla\\Downloads\\random_text_file.txt\"\n",
    "\n",
    "# Open the file and read all its contents\n",
    "with open(file_path, \"r\") as file:\n",
    "    content = file.read()\n",
    "\n",
    "# Split the content into words\n",
    "\n",
    "ls19 = content.split()\n",
    "\n",
    "\n",
    "\n",
    "i = 0\n",
    "j = 0\n",
    "fr = 0\n",
    "# re = ()\n",
    "ls20 = []\n",
    "ls21 = []\n",
    "while i<=len(ls19)-1:\n",
    "    if ls19[i] not in ls20:\n",
    "       ls20.append(ls19[i])\n",
    "    while j <=len(ls20)-1:\n",
    "        fr = ls19.count(ls20[j])\n",
    "        re = (ls20[j],fr)\n",
    "        print(re)\n",
    "        j = j+1\n",
    "        ls21.append(re)\n",
    "    # print(ls21)\n",
    "    i = i+1\n",
    "print(ls21)\n"
   ]
  },
  {
   "cell_type": "code",
   "execution_count": null,
   "metadata": {},
   "outputs": [],
   "source": [
    "def word_count(lst_name,bol=0):\n",
    "    ls19 = lst_name\n",
    "    \n",
    "    i = 0\n",
    "    j = 0\n",
    "    fr = 0\n",
    "    # re = ()\n",
    "    ls20 = []\n",
    "    ls21 = []\n",
    "    while i<=len(ls19)-1:\n",
    "        if ls19[i] not in ls20:\n",
    "            ls20.append(ls19[i])\n",
    "        while j <=len(ls20)-1:\n",
    "            fr = ls19.count(ls20[j])\n",
    "            re = (ls20[j],fr)\n",
    "            #print(re)\n",
    "            j = j+1\n",
    "            ls21.append(re)\n",
    "        i = i+1\n",
    "    sorted_data = sorted(ls21, key=lambda x: x[1], reverse=bol)  #sorting the frequency \n",
    "    return sorted_data"
   ]
  },
  {
   "cell_type": "code",
   "execution_count": null,
   "metadata": {},
   "outputs": [
    {
     "name": "stdout",
     "output_type": "stream",
     "text": [
      "[('kiwi', 18), ('mango', 15), ('honeydew', 13), ('fig', 12), ('date', 12), ('banana', 11), ('cherry', 9), ('lemon', 9), ('apple', 8), ('grape', 5)]\n"
     ]
    }
   ],
   "source": [
    "file_path = r\"C:\\Users\\milla\\Downloads\\random_text_file.txt\"\n",
    "\n",
    "# Open the file and read all its contents\n",
    "with open(file_path, \"r\") as file:\n",
    "    content = file.read().split()\n",
    "\n",
    "# Split the content into words\n",
    "\n",
    "print(word_count(content,True))\n"
   ]
  },
  {
   "cell_type": "code",
   "execution_count": null,
   "metadata": {},
   "outputs": [],
   "source": [
    "data = [('kiwi', 18), ('mango', 15), ('honeydew', 13), ('fig', 12), ('cherry', 9), \n",
    "        ('apple', 8), ('banana', 11), ('lemon', 9), ('grape', 5), ('date', 12)]\n",
    "\n",
    "# Sort by the integer part of each tuple in descending order\n",
    "sorted_data = sorted(data, key=lambda x: x[1], reverse=True)\n",
    "\n",
    "print(sorted_data)\n"
   ]
  }
 ],
 "metadata": {
  "language_info": {
   "name": "python"
  }
 },
 "nbformat": 4,
 "nbformat_minor": 2
}
